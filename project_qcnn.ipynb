{
 "cells": [
  {
   "cell_type": "code",
   "execution_count": null,
   "metadata": {},
   "outputs": [],
   "source": [
    "import torch\n",
    "import torch.nn as nn\n",
    "import torch.optim as optim\n",
    "from torch.utils.data import DataLoader\n",
    "import torchvision\n",
    "from torchvision import datasets,transforms\n",
    "import matplotlib.pyplot as plt\n",
    "from qiskit import QuantumCircuit, Aer, execute\n"
   ]
  },
  {
   "cell_type": "code",
   "execution_count": null,
   "metadata": {},
   "outputs": [],
   "source": [
    "class QuantumLayer(function):\n",
    "    @staticmethod\n",
    "    def forward(ctx, input):\n",
    "        n_qubits=2\n",
    "        qc=QuantumCircuit(n_qubits)\n",
    "\n",
    "        qc.h(0)\n",
    "        qc.cx(0,1)\n",
    "        qc.measure_all()\n",
    "\n",
    "\n",
    "        simulator=Aer.get_backend('qasm_simulator')\n",
    "        result=execute(qc,simulator,shots=1024).result()\n",
    "        counts=result.get_counts()\n",
    "\n",
    "        measurement=list(counts.keys())[0]\n",
    "        output=torch.tensor([int(bit) for bit in measurement], dtype=torch.float32)\n",
    "        return output\n"
   ]
  },
  {
   "cell_type": "code",
   "execution_count": null,
   "metadata": {},
   "outputs": [],
   "source": [
    "class QCNN(nn.Module):\n",
    "    def __init__(self):\n",
    "        super(QCNN, self).__init__()\n",
    "        self.conv1=nn.conv2(1,16,kernel_size=3,stride=1,padding=1)\n",
    "        self.conv2=nn.conv2(16,32,kernel_size=3,stride=1,padding=1)\n",
    "        self.fc=nn.Linear(32*28*28,10)\n",
    "\n",
    "    def forward(self,x)\n",
    "        x=torch.relu(self.conv1(x))\n",
    "        x=torch.relu(self.conv2(x))\n",
    "        x=x.view(x.size(0),-1)\n",
    "        x=self.fc(x)\n",
    "        return x"
   ]
  },
  {
   "cell_type": "code",
   "execution_count": null,
   "metadata": {},
   "outputs": [],
   "source": [
    "model=QCNN()\n",
    "criterion=nn.CrossEntropyLoss()\n",
    "optimizer=optim.Adam(model.parameters(),lr=learning_rate)\n",
    "\n",
    "\n",
    "train_dataset=\n",
    "trainloader=DataLoader(train_dataset,batch_size=64,shuffle=True)\n",
    "\n",
    "\n",
    "for epoch in range(10):\n",
    "    model.train()\n",
    "    running_loss=0.0\n",
    "    for inputs , labels in trainloader:\n",
    "        optimizer.zero_grad()\n",
    "        outputs=model(inputs)\n",
    "        loss=criterion(outputs,labels)\n",
    "        loss.backward()\n",
    "        optimizer.step()\n",
    "        running_loss+=loss.item()\n",
    "    \n",
    "    print(f\"Epoch {epoch+1}, Loss: {running_loss / len(trainloader)}\")\n",
    "    "
   ]
  }
 ],
 "metadata": {
  "kernelspec": {
   "display_name": ".venv",
   "language": "python",
   "name": "python3"
  },
  "language_info": {
   "codemirror_mode": {
    "name": "ipython",
    "version": 3
   },
   "file_extension": ".py",
   "mimetype": "text/x-python",
   "name": "python",
   "nbconvert_exporter": "python",
   "pygments_lexer": "ipython3",
   "version": "3.12.6"
  }
 },
 "nbformat": 4,
 "nbformat_minor": 2
}
